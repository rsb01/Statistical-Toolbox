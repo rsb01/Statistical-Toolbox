{
 "cells": [
  {
   "cell_type": "markdown",
   "metadata": {},
   "source": [
    "# 📊 One-Way ANOVA (Analysis of Variance)\n",
    "\n",
    "This notebook demonstrates how to use one-way ANOVA to test for differences between group means."
   ]
  },
  {
   "cell_type": "code",
   "metadata": {},
   "execution_count": null,
   "outputs": [],
   "source": [
    "import numpy as np\n",
    "import scipy.stats as stats\n",
    "\n",
    "# Simulated income data for 3 education levels\n",
    "group1 = np.random.normal(50000, 5000, 30)  # High School\n",
    "group2 = np.random.normal(55000, 5000, 30)  # Bachelors\n",
    "group3 = np.random.normal(60000, 5000, 30)  # Masters\n",
    "\n",
    "# Perform one-way ANOVA\n",
    "f_stat, p_val = stats.f_oneway(group1, group2, group3)\n",
    "\n",
    "print(f\"F-statistic: {f_stat:.2f}\")\n",
    "print(f\"P-value: {p_val:.4f}\")\n",
    "\n",
    "if p_val < 0.05:\n",
    "    print(\"\\nResult: Significant differences between groups (reject H0)\")\n",
    "else:\n",
    "    print(\"\\nResult: No significant difference between groups (fail to reject H0)\")"
   ]
  }
 ],
 "metadata": {
  "kernelspec": { "name": "python3", "display_name": "Python 3", "language": "python" },
  "language_info": { "name": "python", "version": "3.x" }
 },
 "nbformat": 4,
 "nbformat_minor": 1
}
