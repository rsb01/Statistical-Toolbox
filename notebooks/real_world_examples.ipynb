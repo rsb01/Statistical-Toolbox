{
 "cells": [
  {
   "cell_type": "markdown",
   "metadata": {},
   "source": [
    "# 🌍 Real-World Applications: Bank Marketing Dataset\n",
    "\n",
    "This notebook demonstrates how to apply statistical tools to a real dataset: predicting subscription likelihood from marketing campaign data."
   ]
  },
  {
   "cell_type": "code",
   "metadata": {},
   "execution_count": null,
   "outputs": [],
   "source": [
    "import pandas as pd\n",
    "from sklearn.model_selection import train_test_split\n",
    "from sklearn.linear_model import LogisticRegression\n",
    "from sklearn.metrics import classification_report\n",
    "\n",
    "# Load dataset\n",
    "url = 'https://raw.githubusercontent.com/henriqueyamahata/bank-marketing-dataset/master/bank.csv'\n",
    "df = pd.read_csv(url, sep=';')\n",
    "print(df.head())"
   ]
  },
  {
   "cell_type": "code",
   "metadata": {},
   "execution_count": null,
   "outputs": [],
   "source": [
    "# Preprocess and encode categorical variables\n",
    "df_encoded = pd.get_dummies(df[['age', 'job', 'marital', 'education', 'balance', 'housing', 'loan']], drop_first=True)\n",
    "df_encoded['target'] = df['y'].map({'yes': 1, 'no': 0})\n",
    "\n",
    "# Train-test split\n",
    "X = df_encoded.drop('target', axis=1)\n",
    "y = df_encoded['target']\n",
    "X_train, X_test, y_train, y_test = train_test_split(X, y, test_size=0.3, random_state=42)\n",
    "\n",
    "# Logistic regression\n",
    "model = LogisticRegression(max_iter=1000)\n",
    "model.fit(X_train, y_train)\n",
    "y_pred = model.predict(X_test)\n",
    "\n",
    "# Results\n",
    "print(classification_report(y_test, y_pred))"
   ]
  }
 ],
 "metadata": {
  "kernelspec": { "name": "python3", "display_name": "Python 3", "language": "python" },
  "language_info": { "name": "python", "version": "3.x" }
 },
 "nbformat": 4,
 "nbformat_minor": 1
}
