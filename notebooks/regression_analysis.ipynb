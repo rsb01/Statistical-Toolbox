{
 "cells": [
  {
   "cell_type": "markdown",
   "metadata": {},
   "source": [
    "# 📉 Regression Analysis\n",
    "\n",
    "This notebook covers linear regression using `scikit-learn` and visualizes the fit."
   ]
  },
  {
   "cell_type": "code",
   "execution_count": null,
   "metadata": {},
   "outputs": [],
   "source": [
    "import numpy as np\n",
    "import pandas as pd\n",
    "import matplotlib.pyplot as plt\n",
    "from sklearn.linear_model import LinearRegression\n",
    "from sklearn.metrics import mean_squared_error, r2_score\n",
    "\n",
    "# Simulated dataset\n",
    "np.random.seed(0)\n",
    "x = np.random.rand(100, 1) * 10\n",
    "y = 2.5 * x + np.random.randn(100, 1) * 2\n",
    "\n",
    "# Fit model\n",
    "model = LinearRegression()\n",
    "model.fit(x, y)\n",
    "y_pred = model.predict(x)\n",
    "\n",
    "# Metrics\n",
    "print('Slope:', model.coef_[0][0])\n",
    "print('Intercept:', model.intercept_[0])\n",
    "print('R^2 Score:', r2_score(y, y_pred))\n",
    "print('MSE:', mean_squared_error(y, y_pred))\n",
    "\n",
    "# Visualization\n",
    "plt.scatter(x, y, label='Actual')\n",
    "plt.plot(x, y_pred, color='red', label='Fitted Line')\n",
    "plt.title('Linear Regression Fit')\n",
    "plt.xlabel('x')\n",
    "plt.ylabel('y')\n",
    "plt.legend()\n",
    "plt.grid(True)\n",
    "plt.show()"
   ]
  }
 ],
 "metadata": {
  "kernelspec": {
   "display_name": "Python 3",
   "language": "python",
   "name": "python3"
  },
  "language_info": {
   "name": "python",
   "version": "3.x"
  }
 },
 "nbformat": 4,
 "nbformat_minor": 1
}
