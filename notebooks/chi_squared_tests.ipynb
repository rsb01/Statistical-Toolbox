{
  "cells": [
    {
      "cell_type": "markdown",
      "metadata": {
        "id": "view-in-github",
        "colab_type": "text"
      },
      "source": [
        "<a href=\"https://colab.research.google.com/github/rsb01/Statistical-Toolbox/blob/main/notebooks/chi_squared_tests.ipynb\" target=\"_parent\"><img src=\"https://colab.research.google.com/assets/colab-badge.svg\" alt=\"Open In Colab\"/></a>"
      ]
    },
    {
      "cell_type": "markdown",
      "metadata": {
        "id": "aAsjUM0VEKBA"
      },
      "source": [
        "# 🧪 Chi-Square Test of Independence\n",
        "\n",
        "This notebook demonstrates a Chi-Square test to determine if two categorical variables are independent."
      ]
    },
    {
      "cell_type": "code",
      "execution_count": 1,
      "metadata": {
        "id": "XsgdEofuEKBF",
        "outputId": "4e5c43cd-6668-4618-9172-bf58bb4d9b3f",
        "colab": {
          "base_uri": "https://localhost:8080/"
        }
      },
      "outputs": [
        {
          "output_type": "stream",
          "name": "stdout",
          "text": [
            "Contingency Table:\n",
            "         Subscribed  Not Subscribed\n",
            "Group A          30              20\n",
            "Group B          70              80\n",
            "\n",
            "Chi-square statistic: 2.16\n",
            "Degrees of freedom: 1\n",
            "P-value: 0.1416\n",
            "\n",
            "Expected Frequencies:\n",
            "[[25. 25.]\n",
            " [75. 75.]]\n"
          ]
        }
      ],
      "source": [
        "import pandas as pd\n",
        "import scipy.stats as stats\n",
        "\n",
        "# Simulated contingency table\n",
        "data = pd.DataFrame({\n",
        "    'Subscribed': [30, 70],\n",
        "    'Not Subscribed': [20, 80]\n",
        "}, index=['Group A', 'Group B'])\n",
        "\n",
        "print(\"Contingency Table:\")\n",
        "print(data)\n",
        "\n",
        "# Chi-square test\n",
        "chi2, p, dof, expected = stats.chi2_contingency(data)\n",
        "\n",
        "print(f\"\\nChi-square statistic: {chi2:.2f}\")\n",
        "print(f\"Degrees of freedom: {dof}\")\n",
        "print(f\"P-value: {p:.4f}\")\n",
        "print(\"\\nExpected Frequencies:\")\n",
        "print(expected)"
      ]
    }
  ],
  "metadata": {
    "kernelspec": {
      "name": "python3",
      "display_name": "Python 3",
      "language": "python"
    },
    "language_info": {
      "name": "python",
      "version": "3.x"
    },
    "colab": {
      "provenance": [],
      "include_colab_link": true
    }
  },
  "nbformat": 4,
  "nbformat_minor": 0
}