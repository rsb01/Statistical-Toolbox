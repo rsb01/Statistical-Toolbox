{
 "cells": [
  {
   "cell_type": "markdown",
   "metadata": {},
   "source": [
    "# 🧪 Chi-Square Test of Independence\n",
    "\n",
    "This notebook demonstrates a Chi-Square test to determine if two categorical variables are independent."
   ]
  },
  {
   "cell_type": "code",
   "execution_count": null,
   "metadata": {},
   "outputs": [],
   "source": [
    "import pandas as pd\n",
    "import scipy.stats as stats\n",
    "\n",
    "# Simulated contingency table\n",
    "data = pd.DataFrame({\n",
    "    'Subscribed': [30, 70],\n",
    "    'Not Subscribed': [20, 80]\n",
    "}, index=['Group A', 'Group B'])\n",
    "\n",
    "print(\"Contingency Table:\")\n",
    "print(data)\n",
    "\n",
    "# Chi-square test\n",
    "chi2, p, dof, expected = stats.chi2_contingency(data)\n",
    "\n",
    "print(f\"\\nChi-square statistic: {chi2:.2f}\")\n",
    "print(f\"Degrees of freedom: {dof}\")\n",
    "print(f\"P-value: {p:.4f}\")\n",
    "print(\"\\nExpected Frequencies:\")\n",
    "print(expected)"
   ]
  }
 ],
 "metadata": {
  "kernelspec": { "name": "python3", "display_name": "Python 3", "language": "python" },
  "language_info": { "name": "python", "version": "3.x" }
 },
 "nbformat": 4,
 "nbformat_minor": 1
}
