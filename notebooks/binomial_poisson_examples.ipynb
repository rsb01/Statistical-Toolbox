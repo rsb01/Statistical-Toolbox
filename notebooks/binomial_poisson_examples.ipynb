{
 "cells": [
  {
   "cell_type": "markdown",
   "metadata": {},
   "source": [
    "# 🧮 Binomial & Poisson Distribution Examples\n",
    "\n",
    "This notebook explores how Binomial and Poisson distributions can model marketing scenarios."
   ]
  },
  {
   "cell_type": "code",
   "execution_count": null,
   "metadata": {},
   "outputs": [],
   "source": [
    "import matplotlib.pyplot as plt\n",
    "import numpy as np\n",
    "import scipy.stats as stats\n",
    "\n",
    "# Binomial: Probability of 3 successes out of 10, with 0.4 chance of success\n",
    "n = 10\n",
    "p = 0.4\n",
    "x = np.arange(0, n+1)\n",
    "binom_pmf = stats.binom.pmf(x, n, p)\n",
    "\n",
    "plt.bar(x, binom_pmf)\n",
    "plt.title('Binomial Distribution (n=10, p=0.4)')\n",
    "plt.xlabel('Number of successes')\n",
    "plt.ylabel('Probability')\n",
    "plt.grid(True)\n",
    "plt.show()"
   ]
  },
  {
   "cell_type": "code",
   "execution_count": null,
   "metadata": {},
   "outputs": [],
   "source": [
    "# Poisson: Number of calls per hour with average rate λ=3\n",
    "lambda_ = 3\n",
    "x = np.arange(0, 10)\n",
    "poisson_pmf = stats.poisson.pmf(x, lambda_)\n",
    "\n",
    "plt.bar(x, poisson_pmf, color='orange')\n",
    "plt.title('Poisson Distribution (λ=3)')\n",
    "plt.xlabel('Number of events')\n",
    "plt.ylabel('Probability')\n",
    "plt.grid(True)\n",
    "plt.show()"
   ]
  }
 ],
 "metadata": {
  "kernelspec": { "name": "python3", "display_name": "Python 3", "language": "python" },
  "language_info": { "name": "python", "version": "3.x" }
 },
 "nbformat": 4,
 "nbformat_minor": 1
}
