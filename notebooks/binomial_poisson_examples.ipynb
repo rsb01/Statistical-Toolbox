{
 "cells": [
  {
   "cell_type": "markdown",
   "metadata": {},
   "source": [
    "# 🎯 Binomial and Poisson Applications\n",
    "\n",
    "Real-world use of Binomial and Poisson distributions with marketing data."
   ]
  },
  {
   "cell_type": "code",
   "execution_count": null,
   "metadata": {},
   "outputs": [],
   "source": [
    "import pandas as pd\n",
    "import numpy as np\n",
    "import matplotlib.pyplot as plt\n",
    "import seaborn as sns\n",
    "from scipy.stats import binom, poisson\n",
    "\n",
    "# Load dataset\n",
    "url = 'https://raw.githubusercontent.com/selva86/datasets/master/BankMarketing.csv'\n",
    "df = pd.read_csv(url)\n",
    "\n",
    "# Binomial: Success of campaign\n",
    "df['success'] = (df['y'] == 'yes').astype(int)\n",
    "n = len(df)\n",
    "p = df['success'].mean()\n",
    "\n",
    "x = np.arange(0, 50)\n",
    "binom_pmf = binom.pmf(x, 50, p)\n",
    "sns.barplot(x=x, y=binom_pmf, color='green')\n",
    "plt.title('Binomial PMF: Campaign Success (n=50)')\n",
    "plt.xlabel('Number of successes')\n",
    "plt.ylabel('Probability')\n",
    "plt.show()\n",
    "\n",
    "# Poisson: Calls per hour (assume avg 5 calls/hour)\n",
    "mu = 5\n",
    "x = np.arange(0, 15)\n",
    "poisson_pmf = poisson.pmf(x, mu)\n",
    "sns.barplot(x=x, y=poisson_pmf, color='blue')\n",
    "plt.title('Poisson PMF: Calls per Hour (λ=5)')\n",
    "plt.xlabel('Calls')\n",
    "plt.ylabel('Probability')\n",
    "plt.show()"
   ]
  }
 ],
 "metadata": {
  "kernelspec": {
   "display_name": "Python 3",
   "language": "python",
   "name": "python3"
  },
  "language_info": {
   "name": "python",
   "version": "3.x"
  }
 },
 "nbformat": 4,
 "nbformat_minor": 1
}
