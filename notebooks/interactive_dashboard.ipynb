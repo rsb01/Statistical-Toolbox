{
 "cells": [
  {
   "cell_type": "markdown",
   "metadata": {},
   "source": [
    "# 📊 Interactive Dashboard: Visualizing Data with Plotly\n",
    "\n",
    "This notebook creates an interactive dashboard that allows users to explore the data by changing parameters."
   ]
  },
  {
   "cell_type": "code",
   "metadata": {},
   "execution_count": null,
   "outputs": [],
   "source": [
    "import pandas as pd\n",
    "import numpy as np\n",
    "import plotly.express as px\n",
    "import ipywidgets as widgets\n",
    "from ipywidgets import interact\n",
    "\n",
    "# Simulate a dataset\n",
    "np.random.seed(42)\n",
    "data = pd.DataFrame({\n",
    "    'Age': np.random.randint(18, 70, 100),\n",
    "    'Income': np.random.normal(50000, 15000, 100),\n",
    "    'Spending Score': np.random.normal(50, 10, 100),\n",
    "    'Education': np.random.choice(['High School', 'Bachelors', 'Masters'], 100)\n",
    "})\n",
    "\n",
    "# Plotly scatter plot function\n",
    "def plot_data(education_filter):\n",
    "    filtered_data = data[data['Education'] == education_filter]\n",
    "    fig = px.scatter(filtered_data, x='Age', y='Income', color='Spending Score',\n",
    "                     title=f'Data for {education_filter} Education',\n",
    "                     labels={'Spending Score': 'Spending Score'},\n",
    "                     color_continuous_scale='Viridis')\n",
    "    fig.show()\n",
    "\n",
    "# Interactive widget for education filter\n",
    "education_widget = widgets.Dropdown(\n",
    "    options=['High School', 'Bachelors', 'Masters'],\n",
    "    value='Bachelors',\n",
    "    description='Education: '\n",
    ")\n",
    "\n",
    "# Display the interactive plot\n",
    "interact(plot_data, education_filter=education_widget)\n"
   ]
  }
 ],
 "metadata": {
  "kernelspec": { "name": "python3", "display_name": "Python 3", "language": "python" },
  "language_info": { "name": "python", "version": "3.x" }
 },
 "nbformat": 4,
 "nbformat_minor": 1
}
