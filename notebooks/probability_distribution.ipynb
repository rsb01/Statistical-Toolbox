prob_dist_notebook = '''{
 "cells": [
  {
   "cell_type": "markdown",
   "metadata": {},
   "source": [
    "# 🎲 Probability Distributions\n",
    "\n",
    "This notebook demonstrates key probability distributions including Normal, Binomial, and Poisson using Python."
   ]
  },
  {
   "cell_type": "code",
   "execution_count": null,
   "metadata": {},
   "outputs": [],
   "source": [
    "import numpy as np\n",
    "import matplotlib.pyplot as plt\n",
    "import seaborn as sns\n",
    "from scipy.stats import norm, binom, poisson\n",
    "\n",
    "# Normal Distribution\n",
    "x = np.linspace(-4, 4, 1000)\n",
    "y = norm.pdf(x, 0, 1)\n",
    "plt.plot(x, y)\n",
    "plt.title('Normal Distribution')\n",
    "plt.grid()\n",
    "plt.show()\n",
    "\n",
    "# Binomial Distribution (n=10, p=0.5)\n",
    "x = np.arange(0, 11)\n",
    "y = binom.pmf(x, n=10, p=0.5)\n",
    "sns.barplot(x=x, y=y, color='skyblue')\n",
    "plt.title('Binomial Distribution (n=10, p=0.5)')\n",
    "plt.show()\n",
    "\n",
    "# Poisson Distribution (lambda=3)\n",
    "x = np.arange(0, 15)\n",
    "y = poisson.pmf(x, mu=3)\n",
    "sns.barplot(x=x, y=y, color='orange')\n",
    "plt.title('Poisson Distribution (λ=3)')\n",
    "plt.show()"
   ]
  }
 ],
 "metadata": {
  "kernelspec": {
   "display_name": "Python 3",
   "language": "python",
   "name": "python3"
  },
  "language_info": {
   "name": "python",
   "version": "3.x"
  }
 },
 "nbformat": 4,
 "nbformat_minor": 1
}'''
