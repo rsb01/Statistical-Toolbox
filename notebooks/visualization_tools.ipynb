{
 "cells": [
  {
   "cell_type": "markdown",
   "metadata": {},
   "source": [
    "# 📊 Visualization Tools\n",
    "\n",
    "In this notebook, we explore visualizing data using **Matplotlib**, **Seaborn**, and **Plotly**."
   ]
  },
  {
   "cell_type": "code",
   "execution_count": null,
   "metadata": {},
   "outputs": [],
   "source": [
    "import numpy as np\n",
    "import pandas as pd\n",
    "import matplotlib.pyplot as plt\n",
    "import seaborn as sns\n",
    "import plotly.express as px\n",
    "\n",
    "# Sample dataset\n",
    "data = pd.DataFrame({\n",
    "    'Age': np.random.randint(18, 65, size=100),\n",
    "    'Income': np.random.randint(30000, 100000, size=100),\n",
    "    'Education Level': np.random.choice(['High School', 'Bachelors', 'Masters'], size=100)\n",
    "})\n",
    "\n",
    "# Matplotlib - Scatter plot\n",
    "plt.scatter(data['Age'], data['Income'], color='blue', label='Data points')\n",
    "plt.title('Age vs Income (Matplotlib)')\n",
    "plt.xlabel('Age')\n",
    "plt.ylabel('Income')\n",
    "plt.legend()\n",
    "plt.show()\n",
    "\n",
    "# Seaborn - Boxplot\n",
    "sns.boxplot(x=data['Education Level'], y=data['Income'])\n",
    "plt.title('Income by Education Level (Seaborn)')\n",
    "plt.show()\n",
    "\n",
    "# Plotly - Interactive scatter plot\n",
    "fig = px.scatter(data, x='Age', y='Income', color='Education Level', title='Interactive Age vs Income (Plotly)')\n",
    "fig.show()"
   ]
  }
 ],
 "metadata": {
  "kernelspec": {
   "display_name": "Python 3",
   "language": "python",
   "name": "python3"
  },
  "language_info": {
   "name": "python",
   "version": "3.x"
  }
 },
 "nbformat": 4,
 "nbformat_minor": 1
}
