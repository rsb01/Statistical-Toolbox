{
 "cells": [
  {
   "cell_type": "markdown",
   "metadata": {},
   "source": [
    "# Descriptive Statistics\n",
    "\n",
    "Learn the fundamentals of summarizing data using statistical metrics and visualizations."
   ]
  },
  {
   "cell_type": "code",
   "execution_count": null,
   "metadata": {},
   "outputs": [],
   "source": [
    "import pandas as pd\n",
    "import numpy as np\n",
    "import matplotlib.pyplot as plt\n",
    "import seaborn as sns\n",
    "\n",
    "# Sample data\n",
    "data = pd.DataFrame({\n",
    "    'age': [22, 25, 47, 52, 46, 56, 55, 60, 63, 50],\n",
    "    'income': [35000, 42000, 59000, 60000, 57000, 63000, 64000, 70000, 72000, 69000]\n",
    "})\n",
    "\n",
    "# Summary statistics\n",
    "print(data.describe())\n",
    "\n",
    "# Visualizations\n",
    "sns.boxplot(data=data, x='age')\n",
    "plt.title('Boxplot of Age')\n",
    "plt.show()\n",
    "\n",
    "sns.histplot(data=data, x='income', kde=True)\n",
    "plt.title('Income Distribution')\n",
    "plt.show()"
   ]
  }
 ],
 "metadata": {
  "kernelspec": {
   "display_name": "Python 3",
   "language": "python",
   "name": "python3"
  },
  "language_info": {
   "name": "python",
   "version": "3.x"
  }
 },
 "nbformat": 4,
 "nbformat_minor": 1
}
