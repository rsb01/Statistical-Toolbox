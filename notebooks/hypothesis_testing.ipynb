{
 "cells": [
  {
   "cell_type": "markdown",
   "metadata": {},
   "source": [
    "# 🧪 Hypothesis Testing\n",
    "\n",
    "This notebook walks through one-sample and two-sample hypothesis tests, including t-tests and z-tests."
   ]
  },
  {
   "cell_type": "code",
   "execution_count": null,
   "metadata": {},
   "outputs": [],
   "source": [
    "import numpy as np\n",
    "import scipy.stats as stats\n",
    "\n",
    "# One-sample t-test\n",
    "sample = [2.1, 2.5, 2.8, 3.0, 2.7, 2.9]\n",
    "t_stat, p_val = stats.ttest_1samp(sample, popmean=2.5)\n",
    "print('One-sample t-test:')\n",
    "print('t-statistic:', t_stat)\n",
    "print('p-value:', p_val)\n",
    "\n",
    "# Two-sample t-test\n",
    "group1 = [5.1, 5.3, 5.7, 5.6, 5.8]\n",
    "group2 = [5.0, 5.1, 5.4, 5.3, 5.5]\n",
    "t_stat2, p_val2 = stats.ttest_ind(group1, group2)\n",
    "print('\nTwo-sample t-test:')\n",
    "print('t-statistic:', t_stat2)\n",
    "print('p-value:', p_val2)\n",
    "\n",
    "# Proportion z-test\n",
    "# Example: 45 out of 100 prefer A, 55 out of 120 prefer B\n",
    "count = np.array([45, 55])\n",
    "nobs = np.array([100, 120])\n",
    "z_stat, p_val_z = stats.proportions_ztest(count, nobs)\n",
    "print('\nZ-test for proportions:')\n",
    "print('z-statistic:', z_stat)\n",
    "print('p-value:', p_val_z)"
   ]
  }
 ],
 "metadata": {
  "kernelspec": {
   "display_name": "Python 3",
   "language": "python",
   "name": "python3"
  },
  "language_info": {
   "name": "python",
   "version": "3.x"
  }
 },
 "nbformat": 4,
 "nbformat_minor": 1
}
