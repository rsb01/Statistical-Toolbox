{
  "cells": [
    {
      "cell_type": "markdown",
      "metadata": {
        "id": "view-in-github",
        "colab_type": "text"
      },
      "source": [
        "<a href=\"https://colab.research.google.com/github/rsb01/Statistical-Toolbox/blob/main/notebooks/hypothesis_testing.ipynb\" target=\"_parent\"><img src=\"https://colab.research.google.com/assets/colab-badge.svg\" alt=\"Open In Colab\"/></a>"
      ]
    },
    {
      "cell_type": "markdown",
      "metadata": {
        "id": "l3BTR1lTBDgl"
      },
      "source": [
        "# 🧪 Hypothesis Testing\n",
        "\n",
        "This notebook demonstrates basic hypothesis testing using t-tests and proportion z-tests."
      ]
    },
    {
      "cell_type": "code",
      "metadata": {
        "id": "7V6Q5EXXBDgo",
        "outputId": "8cddc7f4-d413-48c0-b0e0-61d7ac146278",
        "colab": {
          "base_uri": "https://localhost:8080/"
        }
      },
      "execution_count": 1,
      "outputs": [
        {
          "output_type": "stream",
          "name": "stdout",
          "text": [
            "Two-sample t-test: t=-1.40, p=0.1678\n"
          ]
        }
      ],
      "source": [
        "import numpy as np\n",
        "from scipy import stats\n",
        "\n",
        "# Sample data for two groups\n",
        "group1 = np.random.normal(50, 5, 30)\n",
        "group2 = np.random.normal(52, 5, 30)\n",
        "\n",
        "# Two-sample t-test\n",
        "t_stat, p_val = stats.ttest_ind(group1, group2)\n",
        "print(f'Two-sample t-test: t={t_stat:.2f}, p={p_val:.4f}')"
      ]
    },
    {
      "cell_type": "code",
      "metadata": {
        "id": "ZfRoYUERBDgq",
        "outputId": "08ee53bc-cad1-423d-9443-09f0f6050864",
        "colab": {
          "base_uri": "https://localhost:8080/"
        }
      },
      "execution_count": 2,
      "outputs": [
        {
          "output_type": "stream",
          "name": "stdout",
          "text": [
            "One-sample t-test: t=-3.05, p=0.0066\n"
          ]
        }
      ],
      "source": [
        "# One-sample t-test\n",
        "sample = np.random.normal(100, 10, 20)\n",
        "t_stat, p_val = stats.ttest_1samp(sample, 105)\n",
        "print(f'One-sample t-test: t={t_stat:.2f}, p={p_val:.4f}')"
      ]
    },
    {
      "cell_type": "code",
      "metadata": {
        "id": "tU8kqUgRBDgr",
        "outputId": "6a220023-eaa8-4591-8369-1f6bab97a0cd",
        "colab": {
          "base_uri": "https://localhost:8080/"
        }
      },
      "execution_count": 3,
      "outputs": [
        {
          "output_type": "stream",
          "name": "stdout",
          "text": [
            "Proportions Z-test: z=2.19, p=0.0285\n"
          ]
        }
      ],
      "source": [
        "# Z-test for proportions (manual calculation)\n",
        "import statsmodels.api as sm\n",
        "\n",
        "count = np.array([45, 30])  # successes\n",
        "nobs = np.array([100, 100])  # trials\n",
        "z_stat, p_val = sm.stats.proportions_ztest(count, nobs)\n",
        "print(f'Proportions Z-test: z={z_stat:.2f}, p={p_val:.4f}')"
      ]
    }
  ],
  "metadata": {
    "kernelspec": {
      "name": "python3",
      "display_name": "Python 3",
      "language": "python"
    },
    "language_info": {
      "name": "python",
      "version": "3.x"
    },
    "colab": {
      "provenance": [],
      "include_colab_link": true
    }
  },
  "nbformat": 4,
  "nbformat_minor": 0
}