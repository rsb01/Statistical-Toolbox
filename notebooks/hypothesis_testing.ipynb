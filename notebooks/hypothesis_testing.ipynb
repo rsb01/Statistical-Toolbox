{
  "cells": [
    {
      "cell_type": "markdown",
      "metadata": {
        "id": "view-in-github",
        "colab_type": "text"
      },
      "source": [
        "<a href=\"https://colab.research.google.com/github/rsb01/Statistical-Toolbox/blob/main/notebooks/hypothesis_testing.ipynb\" target=\"_parent\"><img src=\"https://colab.research.google.com/assets/colab-badge.svg\" alt=\"Open In Colab\"/></a>"
      ]
    },
    {
      "cell_type": "markdown",
      "metadata": {
        "id": "3Iocks697Nq6"
      },
      "source": [
        "# Hypothesis Testing\n",
        "\n",
        "This notebook walks through one-sample and two-sample hypothesis tests, including t-tests and z-tests."
      ]
    },
    {
      "cell_type": "code",
      "execution_count": 5,
      "metadata": {
        "id": "5qEzyuTl7Nq7",
        "outputId": "662803c8-9cbd-40c3-f678-b865b8484679",
        "colab": {
          "base_uri": "https://localhost:8080/",
          "height": 349
        }
      },
      "outputs": [
        {
          "output_type": "stream",
          "name": "stdout",
          "text": [
            "Requirement already satisfied: scipy in /usr/local/lib/python3.11/dist-packages (1.15.2)\n",
            "Requirement already satisfied: numpy<2.5,>=1.23.5 in /usr/local/lib/python3.11/dist-packages (from scipy) (2.0.2)\n",
            "One-sample t-test:\n",
            "t-statistic: 1.2499999999999991\n",
            "p-value: 0.26661622295251264\n",
            "Two-sample t-test:\n",
            "t-statistic: 1.499999999999995\n",
            "p-value: 0.1720032919519126\n"
          ]
        },
        {
          "output_type": "error",
          "ename": "AttributeError",
          "evalue": "module 'scipy.stats' has no attribute 'proportions_ztest'",
          "traceback": [
            "\u001b[0;31m---------------------------------------------------------------------------\u001b[0m",
            "\u001b[0;31mAttributeError\u001b[0m                            Traceback (most recent call last)",
            "\u001b[0;32m<ipython-input-5-08a5388e0170>\u001b[0m in \u001b[0;36m<cell line: 0>\u001b[0;34m()\u001b[0m\n\u001b[1;32m     21\u001b[0m \u001b[0mcount\u001b[0m \u001b[0;34m=\u001b[0m \u001b[0mnp\u001b[0m\u001b[0;34m.\u001b[0m\u001b[0marray\u001b[0m\u001b[0;34m(\u001b[0m\u001b[0;34m[\u001b[0m\u001b[0;36m45\u001b[0m\u001b[0;34m,\u001b[0m \u001b[0;36m55\u001b[0m\u001b[0;34m]\u001b[0m\u001b[0;34m)\u001b[0m\u001b[0;34m\u001b[0m\u001b[0;34m\u001b[0m\u001b[0m\n\u001b[1;32m     22\u001b[0m \u001b[0mnobs\u001b[0m \u001b[0;34m=\u001b[0m \u001b[0mnp\u001b[0m\u001b[0;34m.\u001b[0m\u001b[0marray\u001b[0m\u001b[0;34m(\u001b[0m\u001b[0;34m[\u001b[0m\u001b[0;36m100\u001b[0m\u001b[0;34m,\u001b[0m \u001b[0;36m120\u001b[0m\u001b[0;34m]\u001b[0m\u001b[0;34m)\u001b[0m\u001b[0;34m\u001b[0m\u001b[0;34m\u001b[0m\u001b[0m\n\u001b[0;32m---> 23\u001b[0;31m \u001b[0mz_stat\u001b[0m\u001b[0;34m,\u001b[0m \u001b[0mp_val_z\u001b[0m \u001b[0;34m=\u001b[0m \u001b[0mstats\u001b[0m\u001b[0;34m.\u001b[0m\u001b[0mproportions_ztest\u001b[0m\u001b[0;34m(\u001b[0m\u001b[0mcount\u001b[0m\u001b[0;34m,\u001b[0m \u001b[0mnobs\u001b[0m\u001b[0;34m)\u001b[0m\u001b[0;34m\u001b[0m\u001b[0;34m\u001b[0m\u001b[0m\n\u001b[0m\u001b[1;32m     24\u001b[0m \u001b[0mprint\u001b[0m\u001b[0;34m(\u001b[0m\u001b[0;34m'Z-test for proportions:'\u001b[0m\u001b[0;34m)\u001b[0m\u001b[0;34m\u001b[0m\u001b[0;34m\u001b[0m\u001b[0m\n\u001b[1;32m     25\u001b[0m \u001b[0mprint\u001b[0m\u001b[0;34m(\u001b[0m\u001b[0;34m'z-statistic:'\u001b[0m\u001b[0;34m,\u001b[0m \u001b[0mz_stat\u001b[0m\u001b[0;34m)\u001b[0m\u001b[0;34m\u001b[0m\u001b[0;34m\u001b[0m\u001b[0m\n",
            "\u001b[0;31mAttributeError\u001b[0m: module 'scipy.stats' has no attribute 'proportions_ztest'"
          ]
        }
      ],
      "source": [
        "import numpy as np\n",
        "import scipy.stats as stats\n",
        "!pip install --upgrade scipy\n",
        "# One-sample t-test\n",
        "sample = [2.1, 2.5, 2.8, 3.0, 2.7, 2.9]\n",
        "t_stat, p_val = stats.ttest_1samp(sample, popmean=2.5)\n",
        "print('One-sample t-test:')\n",
        "print('t-statistic:', t_stat)\n",
        "print('p-value:', p_val)\n",
        "\n",
        "# Two-sample t-test\n",
        "group1 = [5.1, 5.3, 5.7, 5.6, 5.8]\n",
        "group2 = [5.0, 5.1, 5.4, 5.3, 5.5]\n",
        "t_stat2, p_val2 = stats.ttest_ind(group1, group2)\n",
        "print('Two-sample t-test:')\n",
        "print('t-statistic:', t_stat2)\n",
        "print('p-value:', p_val2)\n",
        "\n",
        "# Proportion z-test\n",
        "# Example: 45 out of 100 prefer A, 55 out of 120 prefer B\n",
        "count = np.array([45, 55])\n",
        "nobs = np.array([100, 120])\n",
        "z_stat, p_val_z = stats.proportions_ztest(count, nobs)\n",
        "print('Z-test for proportions:')\n",
        "print('z-statistic:', z_stat)\n",
        "print('p-value:', p_val_z)"
      ]
    },
    {
      "source": [
        "import scipy\n",
        "import scipy.stats as stats\n",
        "\n",
        "# Check scipy version\n",
        "print(scipy.__version__)"
      ],
      "cell_type": "code",
      "metadata": {
        "id": "IUoM8goj8AoT",
        "outputId": "b335e774-cbd0-490e-ad1d-a471213b168e",
        "colab": {
          "base_uri": "https://localhost:8080/"
        }
      },
      "execution_count": 8,
      "outputs": [
        {
          "output_type": "stream",
          "name": "stdout",
          "text": [
            "1.15.2\n"
          ]
        }
      ]
    }
  ],
  "metadata": {
    "kernelspec": {
      "display_name": "Python 3",
      "language": "python",
      "name": "python3"
    },
    "language_info": {
      "name": "python",
      "version": "3.x"
    },
    "colab": {
      "provenance": [],
      "include_colab_link": true
    }
  },
  "nbformat": 4,
  "nbformat_minor": 0
}