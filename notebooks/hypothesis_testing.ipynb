{
 "cells": [
  {
   "cell_type": "markdown",
   "metadata": {},
   "source": [
    "# 🧪 Hypothesis Testing\n",
    "\n",
    "This notebook demonstrates basic hypothesis testing using t-tests and proportion z-tests."
   ]
  },
  {
   "cell_type": "code",
   "metadata": {},
   "execution_count": null,
   "outputs": [],
   "source": [
    "import numpy as np\n",
    "from scipy import stats\n",
    "\n",
    "# Sample data for two groups\n",
    "group1 = np.random.normal(50, 5, 30)\n",
    "group2 = np.random.normal(52, 5, 30)\n",
    "\n",
    "# Two-sample t-test\n",
    "t_stat, p_val = stats.ttest_ind(group1, group2)\n",
    "print(f'Two-sample t-test: t={t_stat:.2f}, p={p_val:.4f}')"
   ]
  },
  {
   "cell_type": "code",
   "metadata": {},
   "execution_count": null,
   "outputs": [],
   "source": [
    "# One-sample t-test\n",
    "sample = np.random.normal(100, 10, 20)\n",
    "t_stat, p_val = stats.ttest_1samp(sample, 105)\n",
    "print(f'One-sample t-test: t={t_stat:.2f}, p={p_val:.4f}')"
   ]
  },
  {
   "cell_type": "code",
   "metadata": {},
   "execution_count": null,
   "outputs": [],
   "source": [
    "# Z-test for proportions (manual calculation)\n",
    "import statsmodels.api as sm\n",
    "\n",
    "count = np.array([45, 30])  # successes\n",
    "nobs = np.array([100, 100])  # trials\n",
    "z_stat, p_val = sm.stats.proportions_ztest(count, nobs)\n",
    "print(f'Proportions Z-test: z={z_stat:.2f}, p={p_val:.4f}')"
   ]
  }
 ],
 "metadata": {
  "kernelspec": { "name": "python3", "display_name": "Python 3", "language": "python" },
  "language_info": { "name": "python", "version": "3.x" }
 },
 "nbformat": 4,
 "nbformat_minor": 1
}
