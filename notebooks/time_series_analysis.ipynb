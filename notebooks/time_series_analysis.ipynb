{
 "cells": [
  {
   "cell_type": "markdown",
   "metadata": {},
   "source": [
    "# 📈 Time Series Analysis\n",
    "\n",
    "This notebook introduces time series visualization and decomposition using a simulated dataset."
   ]
  },
  {
   "cell_type": "code",
   "execution_count": null,
   "metadata": {},
   "outputs": [],
   "source": [
    "import pandas as pd\n",
    "import numpy as np\n",
    "import matplotlib.pyplot as plt\n",
    "from statsmodels.tsa.seasonal import seasonal_decompose\n",
    "\n",
    "# Create a simple time series with trend and seasonality\n",
    "np.random.seed(42)\n",
    "dates = pd.date_range(start='2022-01-01', periods=48, freq='M')\n",
    "trend = np.linspace(50, 100, 48)\n",
    "seasonal = 10 * np.sin(np.linspace(0, 3*np.pi, 48))\n",
    "noise = np.random.normal(0, 3, 48)\n",
    "values = trend + seasonal + noise\n",
    "\n",
    "ts = pd.Series(values, index=dates)\n",
    "ts.plot(title='Simulated Time Series')\n",
    "plt.ylabel('Value')\n",
    "plt.grid(True)\n",
    "plt.show()"
   ]
  },
  {
   "cell_type": "code",
   "execution_count": null,
   "metadata": {},
   "outputs": [],
   "source": [
    "# Decompose the series\n",
    "result = seasonal_decompose(ts, model='additive')\n",
    "result.plot()\n",
    "plt.tight_layout()\n",
    "plt.show()"
   ]
  }
 ],
 "metadata": {
  "kernelspec": { "name": "python3", "display_name": "Python 3", "language": "python" },
  "language_info": { "name": "python", "version": "3.x" }
 },
 "nbformat": 4,
 "nbformat_minor": 1
}
