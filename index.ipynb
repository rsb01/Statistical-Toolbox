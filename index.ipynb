{
 "cells": [
  {
   "cell_type": "markdown",
   "metadata": {},
   "source": [
    "# 📊 Statistical Toolbox\n",
    "\n",
    "Welcome to the interactive toolbox of statistical techniques! Click below to explore each topic.\n",
    "\n",
    "- [Descriptive Statistics](notebooks/descriptive_statistics.ipynb)\n",
    "- [Probability Distributions](notebooks/probability_distributions.ipynb)\n",
    "- [Hypothesis Testing](notebooks/hypothesis_testing.ipynb)\n",
    "- [Regression Analysis](notebooks/regression_analysis.ipynb)\n",
    "- [ANOVA](notebooks/ANOVA.ipynb)\n",
    "- [Chi-Square Tests](notebooks/chi_squared_tests.ipynb)\n",
    "- [Time Series](notebooks/time_series.ipynb)\n",
    "- [Binomial & Poisson Examples](notebooks/binomial_poisson_examples.ipynb)\n",
    "- [Visualization Tools](notebooks/visualization_tools.ipynb)\n"
   ]
  }
 ],
 "metadata": {
  "colab": {},
  "kernelspec": {
   "display_name": "Python 3",
   "language": "python",
   "name": "python3"
  },
  "language_info": {
   "name": "python",
   "version": "3.x"
  }
 },
 "nbformat": 4,
 "nbformat_minor": 1
}
